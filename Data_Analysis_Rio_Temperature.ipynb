{
  "nbformat": 4,
  "nbformat_minor": 0,
  "metadata": {
    "colab": {
      "name": "Data Analysis - Rio Temperature.ipynb",
      "provenance": [],
      "collapsed_sections": [],
      "toc_visible": true,
      "authorship_tag": "ABX9TyOjYzzy7GyZy3+BOA9nf6mW",
      "include_colab_link": true
    },
    "kernelspec": {
      "name": "python3",
      "display_name": "Python 3"
    }
  },
  "cells": [
    {
      "cell_type": "markdown",
      "metadata": {
        "id": "view-in-github",
        "colab_type": "text"
      },
      "source": [
        "<a href=\"https://colab.research.google.com/github/HinePo/Rio-de-Janeiro-Temperature-Analysis/blob/master/Data_Analysis_Rio_Temperature.ipynb\" target=\"_parent\"><img src=\"https://colab.research.google.com/assets/colab-badge.svg\" alt=\"Open In Colab\"/></a>"
      ]
    },
    {
      "cell_type": "markdown",
      "metadata": {
        "id": "ElMnRkSGOm11",
        "colab_type": "text"
      },
      "source": [
        "# Data Analysis with pandas and matplotlib"
      ]
    },
    {
      "cell_type": "markdown",
      "metadata": {
        "id": "BuuEXNFpOrwb",
        "colab_type": "text"
      },
      "source": [
        "Is Rio de Janeiro getting hotter? Use python to check it out!\n",
        "\n",
        "\n",
        "\n",
        "Dataset can be found in https://www.kaggle.com/volpatto/temperature-timeseries-for-some-brazilian-cities?select=station_rio.csv"
      ]
    },
    {
      "cell_type": "code",
      "metadata": {
        "id": "JDKZ9cXjOfBO",
        "colab_type": "code",
        "colab": {}
      },
      "source": [
        "import pandas as pd\n",
        "import numpy as np\n",
        "import matplotlib.pyplot as plt"
      ],
      "execution_count": 1,
      "outputs": []
    },
    {
      "cell_type": "code",
      "metadata": {
        "id": "vaZ9oR_tOmC3",
        "colab_type": "code",
        "colab": {
          "base_uri": "https://localhost:8080/",
          "height": 204
        },
        "outputId": "16bb7214-3023-4f63-e6e5-c972535a3c1d"
      },
      "source": [
        "# first, upload csv file (station_rio.csv) to colab environment in the left menu\n",
        "\n",
        "# read csv file using pandas\n",
        "df = pd.read_csv('/content/station_rio.csv')\n",
        "df.head()"
      ],
      "execution_count": 2,
      "outputs": [
        {
          "output_type": "execute_result",
          "data": {
            "text/html": [
              "<div>\n",
              "<style scoped>\n",
              "    .dataframe tbody tr th:only-of-type {\n",
              "        vertical-align: middle;\n",
              "    }\n",
              "\n",
              "    .dataframe tbody tr th {\n",
              "        vertical-align: top;\n",
              "    }\n",
              "\n",
              "    .dataframe thead th {\n",
              "        text-align: right;\n",
              "    }\n",
              "</style>\n",
              "<table border=\"1\" class=\"dataframe\">\n",
              "  <thead>\n",
              "    <tr style=\"text-align: right;\">\n",
              "      <th></th>\n",
              "      <th>YEAR</th>\n",
              "      <th>JAN</th>\n",
              "      <th>FEB</th>\n",
              "      <th>MAR</th>\n",
              "      <th>APR</th>\n",
              "      <th>MAY</th>\n",
              "      <th>JUN</th>\n",
              "      <th>JUL</th>\n",
              "      <th>AUG</th>\n",
              "      <th>SEP</th>\n",
              "      <th>OCT</th>\n",
              "      <th>NOV</th>\n",
              "      <th>DEC</th>\n",
              "      <th>D-J-F</th>\n",
              "      <th>M-A-M</th>\n",
              "      <th>J-J-A</th>\n",
              "      <th>S-O-N</th>\n",
              "      <th>metANN</th>\n",
              "    </tr>\n",
              "  </thead>\n",
              "  <tbody>\n",
              "    <tr>\n",
              "      <th>0</th>\n",
              "      <td>1973</td>\n",
              "      <td>27.73</td>\n",
              "      <td>27.97</td>\n",
              "      <td>25.70</td>\n",
              "      <td>26.49</td>\n",
              "      <td>22.42</td>\n",
              "      <td>22.76</td>\n",
              "      <td>22.14</td>\n",
              "      <td>21.03</td>\n",
              "      <td>21.46</td>\n",
              "      <td>22.46</td>\n",
              "      <td>23.06</td>\n",
              "      <td>25.85</td>\n",
              "      <td>27.45</td>\n",
              "      <td>24.87</td>\n",
              "      <td>21.98</td>\n",
              "      <td>22.33</td>\n",
              "      <td>24.16</td>\n",
              "    </tr>\n",
              "    <tr>\n",
              "      <th>1</th>\n",
              "      <td>1974</td>\n",
              "      <td>26.68</td>\n",
              "      <td>27.16</td>\n",
              "      <td>26.56</td>\n",
              "      <td>23.94</td>\n",
              "      <td>22.76</td>\n",
              "      <td>20.70</td>\n",
              "      <td>21.20</td>\n",
              "      <td>21.81</td>\n",
              "      <td>22.91</td>\n",
              "      <td>22.80</td>\n",
              "      <td>24.51</td>\n",
              "      <td>24.54</td>\n",
              "      <td>26.56</td>\n",
              "      <td>24.42</td>\n",
              "      <td>21.24</td>\n",
              "      <td>23.41</td>\n",
              "      <td>23.91</td>\n",
              "    </tr>\n",
              "    <tr>\n",
              "      <th>2</th>\n",
              "      <td>1975</td>\n",
              "      <td>25.27</td>\n",
              "      <td>26.92</td>\n",
              "      <td>26.43</td>\n",
              "      <td>22.82</td>\n",
              "      <td>21.37</td>\n",
              "      <td>20.50</td>\n",
              "      <td>19.68</td>\n",
              "      <td>22.98</td>\n",
              "      <td>22.40</td>\n",
              "      <td>22.65</td>\n",
              "      <td>24.11</td>\n",
              "      <td>26.53</td>\n",
              "      <td>25.58</td>\n",
              "      <td>23.54</td>\n",
              "      <td>21.05</td>\n",
              "      <td>23.05</td>\n",
              "      <td>23.31</td>\n",
              "    </tr>\n",
              "    <tr>\n",
              "      <th>3</th>\n",
              "      <td>1976</td>\n",
              "      <td>27.48</td>\n",
              "      <td>26.20</td>\n",
              "      <td>25.55</td>\n",
              "      <td>24.99</td>\n",
              "      <td>22.01</td>\n",
              "      <td>21.18</td>\n",
              "      <td>20.14</td>\n",
              "      <td>21.15</td>\n",
              "      <td>21.27</td>\n",
              "      <td>22.06</td>\n",
              "      <td>24.40</td>\n",
              "      <td>25.56</td>\n",
              "      <td>26.74</td>\n",
              "      <td>24.18</td>\n",
              "      <td>20.82</td>\n",
              "      <td>22.58</td>\n",
              "      <td>23.58</td>\n",
              "    </tr>\n",
              "    <tr>\n",
              "      <th>4</th>\n",
              "      <td>1977</td>\n",
              "      <td>27.13</td>\n",
              "      <td>28.51</td>\n",
              "      <td>26.88</td>\n",
              "      <td>24.22</td>\n",
              "      <td>22.35</td>\n",
              "      <td>22.13</td>\n",
              "      <td>23.07</td>\n",
              "      <td>22.29</td>\n",
              "      <td>22.44</td>\n",
              "      <td>23.92</td>\n",
              "      <td>24.48</td>\n",
              "      <td>24.84</td>\n",
              "      <td>27.07</td>\n",
              "      <td>24.48</td>\n",
              "      <td>22.50</td>\n",
              "      <td>23.61</td>\n",
              "      <td>24.42</td>\n",
              "    </tr>\n",
              "  </tbody>\n",
              "</table>\n",
              "</div>"
            ],
            "text/plain": [
              "   YEAR    JAN    FEB    MAR    APR  ...  D-J-F  M-A-M  J-J-A  S-O-N  metANN\n",
              "0  1973  27.73  27.97  25.70  26.49  ...  27.45  24.87  21.98  22.33   24.16\n",
              "1  1974  26.68  27.16  26.56  23.94  ...  26.56  24.42  21.24  23.41   23.91\n",
              "2  1975  25.27  26.92  26.43  22.82  ...  25.58  23.54  21.05  23.05   23.31\n",
              "3  1976  27.48  26.20  25.55  24.99  ...  26.74  24.18  20.82  22.58   23.58\n",
              "4  1977  27.13  28.51  26.88  24.22  ...  27.07  24.48  22.50  23.61   24.42\n",
              "\n",
              "[5 rows x 18 columns]"
            ]
          },
          "metadata": {
            "tags": []
          },
          "execution_count": 2
        }
      ]
    },
    {
      "cell_type": "markdown",
      "metadata": {
        "id": "rBzqlmqzBnuo",
        "colab_type": "text"
      },
      "source": [
        "## Data cleaning and Exploration"
      ]
    },
    {
      "cell_type": "code",
      "metadata": {
        "id": "qhQ68IIsVCLi",
        "colab_type": "code",
        "colab": {
          "base_uri": "https://localhost:8080/",
          "height": 669
        },
        "outputId": "201a3089-16e7-4119-a685-18861cf6d873"
      },
      "source": [
        "# df = df.drop(['D-J-F', 'M-A-M', 'J-J-A', 'S-O-N'], axis = 1)\n",
        "df = df.rename(columns={'metANN' : 'Temp', 'YEAR' : 'Year'})\n",
        "df.head(20)"
      ],
      "execution_count": 3,
      "outputs": [
        {
          "output_type": "execute_result",
          "data": {
            "text/html": [
              "<div>\n",
              "<style scoped>\n",
              "    .dataframe tbody tr th:only-of-type {\n",
              "        vertical-align: middle;\n",
              "    }\n",
              "\n",
              "    .dataframe tbody tr th {\n",
              "        vertical-align: top;\n",
              "    }\n",
              "\n",
              "    .dataframe thead th {\n",
              "        text-align: right;\n",
              "    }\n",
              "</style>\n",
              "<table border=\"1\" class=\"dataframe\">\n",
              "  <thead>\n",
              "    <tr style=\"text-align: right;\">\n",
              "      <th></th>\n",
              "      <th>Year</th>\n",
              "      <th>JAN</th>\n",
              "      <th>FEB</th>\n",
              "      <th>MAR</th>\n",
              "      <th>APR</th>\n",
              "      <th>MAY</th>\n",
              "      <th>JUN</th>\n",
              "      <th>JUL</th>\n",
              "      <th>AUG</th>\n",
              "      <th>SEP</th>\n",
              "      <th>OCT</th>\n",
              "      <th>NOV</th>\n",
              "      <th>DEC</th>\n",
              "      <th>D-J-F</th>\n",
              "      <th>M-A-M</th>\n",
              "      <th>J-J-A</th>\n",
              "      <th>S-O-N</th>\n",
              "      <th>Temp</th>\n",
              "    </tr>\n",
              "  </thead>\n",
              "  <tbody>\n",
              "    <tr>\n",
              "      <th>0</th>\n",
              "      <td>1973</td>\n",
              "      <td>27.73</td>\n",
              "      <td>27.97</td>\n",
              "      <td>25.70</td>\n",
              "      <td>26.49</td>\n",
              "      <td>22.42</td>\n",
              "      <td>22.76</td>\n",
              "      <td>22.14</td>\n",
              "      <td>21.03</td>\n",
              "      <td>21.46</td>\n",
              "      <td>22.46</td>\n",
              "      <td>23.06</td>\n",
              "      <td>25.85</td>\n",
              "      <td>27.45</td>\n",
              "      <td>24.87</td>\n",
              "      <td>21.98</td>\n",
              "      <td>22.33</td>\n",
              "      <td>24.16</td>\n",
              "    </tr>\n",
              "    <tr>\n",
              "      <th>1</th>\n",
              "      <td>1974</td>\n",
              "      <td>26.68</td>\n",
              "      <td>27.16</td>\n",
              "      <td>26.56</td>\n",
              "      <td>23.94</td>\n",
              "      <td>22.76</td>\n",
              "      <td>20.70</td>\n",
              "      <td>21.20</td>\n",
              "      <td>21.81</td>\n",
              "      <td>22.91</td>\n",
              "      <td>22.80</td>\n",
              "      <td>24.51</td>\n",
              "      <td>24.54</td>\n",
              "      <td>26.56</td>\n",
              "      <td>24.42</td>\n",
              "      <td>21.24</td>\n",
              "      <td>23.41</td>\n",
              "      <td>23.91</td>\n",
              "    </tr>\n",
              "    <tr>\n",
              "      <th>2</th>\n",
              "      <td>1975</td>\n",
              "      <td>25.27</td>\n",
              "      <td>26.92</td>\n",
              "      <td>26.43</td>\n",
              "      <td>22.82</td>\n",
              "      <td>21.37</td>\n",
              "      <td>20.50</td>\n",
              "      <td>19.68</td>\n",
              "      <td>22.98</td>\n",
              "      <td>22.40</td>\n",
              "      <td>22.65</td>\n",
              "      <td>24.11</td>\n",
              "      <td>26.53</td>\n",
              "      <td>25.58</td>\n",
              "      <td>23.54</td>\n",
              "      <td>21.05</td>\n",
              "      <td>23.05</td>\n",
              "      <td>23.31</td>\n",
              "    </tr>\n",
              "    <tr>\n",
              "      <th>3</th>\n",
              "      <td>1976</td>\n",
              "      <td>27.48</td>\n",
              "      <td>26.20</td>\n",
              "      <td>25.55</td>\n",
              "      <td>24.99</td>\n",
              "      <td>22.01</td>\n",
              "      <td>21.18</td>\n",
              "      <td>20.14</td>\n",
              "      <td>21.15</td>\n",
              "      <td>21.27</td>\n",
              "      <td>22.06</td>\n",
              "      <td>24.40</td>\n",
              "      <td>25.56</td>\n",
              "      <td>26.74</td>\n",
              "      <td>24.18</td>\n",
              "      <td>20.82</td>\n",
              "      <td>22.58</td>\n",
              "      <td>23.58</td>\n",
              "    </tr>\n",
              "    <tr>\n",
              "      <th>4</th>\n",
              "      <td>1977</td>\n",
              "      <td>27.13</td>\n",
              "      <td>28.51</td>\n",
              "      <td>26.88</td>\n",
              "      <td>24.22</td>\n",
              "      <td>22.35</td>\n",
              "      <td>22.13</td>\n",
              "      <td>23.07</td>\n",
              "      <td>22.29</td>\n",
              "      <td>22.44</td>\n",
              "      <td>23.92</td>\n",
              "      <td>24.48</td>\n",
              "      <td>24.84</td>\n",
              "      <td>27.07</td>\n",
              "      <td>24.48</td>\n",
              "      <td>22.50</td>\n",
              "      <td>23.61</td>\n",
              "      <td>24.42</td>\n",
              "    </tr>\n",
              "    <tr>\n",
              "      <th>5</th>\n",
              "      <td>1978</td>\n",
              "      <td>27.44</td>\n",
              "      <td>26.55</td>\n",
              "      <td>26.42</td>\n",
              "      <td>23.39</td>\n",
              "      <td>21.85</td>\n",
              "      <td>20.03</td>\n",
              "      <td>21.94</td>\n",
              "      <td>21.28</td>\n",
              "      <td>22.49</td>\n",
              "      <td>23.51</td>\n",
              "      <td>25.00</td>\n",
              "      <td>25.66</td>\n",
              "      <td>26.28</td>\n",
              "      <td>23.89</td>\n",
              "      <td>21.08</td>\n",
              "      <td>23.67</td>\n",
              "      <td>23.73</td>\n",
              "    </tr>\n",
              "    <tr>\n",
              "      <th>6</th>\n",
              "      <td>1979</td>\n",
              "      <td>23.86</td>\n",
              "      <td>25.69</td>\n",
              "      <td>24.80</td>\n",
              "      <td>23.36</td>\n",
              "      <td>23.05</td>\n",
              "      <td>20.30</td>\n",
              "      <td>20.29</td>\n",
              "      <td>22.42</td>\n",
              "      <td>22.05</td>\n",
              "      <td>24.25</td>\n",
              "      <td>24.07</td>\n",
              "      <td>26.02</td>\n",
              "      <td>25.07</td>\n",
              "      <td>23.74</td>\n",
              "      <td>21.00</td>\n",
              "      <td>23.46</td>\n",
              "      <td>23.32</td>\n",
              "    </tr>\n",
              "    <tr>\n",
              "      <th>7</th>\n",
              "      <td>1980</td>\n",
              "      <td>25.39</td>\n",
              "      <td>27.24</td>\n",
              "      <td>27.83</td>\n",
              "      <td>24.63</td>\n",
              "      <td>23.41</td>\n",
              "      <td>21.20</td>\n",
              "      <td>21.81</td>\n",
              "      <td>22.22</td>\n",
              "      <td>21.05</td>\n",
              "      <td>23.10</td>\n",
              "      <td>24.20</td>\n",
              "      <td>27.01</td>\n",
              "      <td>26.22</td>\n",
              "      <td>25.29</td>\n",
              "      <td>21.74</td>\n",
              "      <td>22.78</td>\n",
              "      <td>24.01</td>\n",
              "    </tr>\n",
              "    <tr>\n",
              "      <th>8</th>\n",
              "      <td>1981</td>\n",
              "      <td>27.42</td>\n",
              "      <td>28.06</td>\n",
              "      <td>26.26</td>\n",
              "      <td>23.85</td>\n",
              "      <td>22.87</td>\n",
              "      <td>20.94</td>\n",
              "      <td>19.90</td>\n",
              "      <td>21.50</td>\n",
              "      <td>23.19</td>\n",
              "      <td>22.49</td>\n",
              "      <td>25.25</td>\n",
              "      <td>25.73</td>\n",
              "      <td>27.50</td>\n",
              "      <td>24.33</td>\n",
              "      <td>20.78</td>\n",
              "      <td>23.64</td>\n",
              "      <td>24.06</td>\n",
              "    </tr>\n",
              "    <tr>\n",
              "      <th>9</th>\n",
              "      <td>1982</td>\n",
              "      <td>24.55</td>\n",
              "      <td>27.51</td>\n",
              "      <td>25.00</td>\n",
              "      <td>22.73</td>\n",
              "      <td>21.58</td>\n",
              "      <td>22.44</td>\n",
              "      <td>21.30</td>\n",
              "      <td>22.34</td>\n",
              "      <td>22.41</td>\n",
              "      <td>23.50</td>\n",
              "      <td>26.15</td>\n",
              "      <td>24.98</td>\n",
              "      <td>25.93</td>\n",
              "      <td>23.10</td>\n",
              "      <td>22.03</td>\n",
              "      <td>24.02</td>\n",
              "      <td>23.77</td>\n",
              "    </tr>\n",
              "    <tr>\n",
              "      <th>10</th>\n",
              "      <td>1983</td>\n",
              "      <td>26.81</td>\n",
              "      <td>27.63</td>\n",
              "      <td>25.99</td>\n",
              "      <td>24.08</td>\n",
              "      <td>23.82</td>\n",
              "      <td>21.18</td>\n",
              "      <td>21.55</td>\n",
              "      <td>20.91</td>\n",
              "      <td>20.53</td>\n",
              "      <td>23.03</td>\n",
              "      <td>25.25</td>\n",
              "      <td>25.94</td>\n",
              "      <td>26.47</td>\n",
              "      <td>24.63</td>\n",
              "      <td>21.21</td>\n",
              "      <td>22.94</td>\n",
              "      <td>23.81</td>\n",
              "    </tr>\n",
              "    <tr>\n",
              "      <th>11</th>\n",
              "      <td>1984</td>\n",
              "      <td>28.56</td>\n",
              "      <td>28.85</td>\n",
              "      <td>26.54</td>\n",
              "      <td>24.46</td>\n",
              "      <td>24.77</td>\n",
              "      <td>22.91</td>\n",
              "      <td>22.20</td>\n",
              "      <td>21.00</td>\n",
              "      <td>21.91</td>\n",
              "      <td>24.44</td>\n",
              "      <td>25.11</td>\n",
              "      <td>25.24</td>\n",
              "      <td>27.78</td>\n",
              "      <td>25.26</td>\n",
              "      <td>22.04</td>\n",
              "      <td>23.82</td>\n",
              "      <td>24.72</td>\n",
              "    </tr>\n",
              "    <tr>\n",
              "      <th>12</th>\n",
              "      <td>1985</td>\n",
              "      <td>25.53</td>\n",
              "      <td>999.90</td>\n",
              "      <td>999.90</td>\n",
              "      <td>999.90</td>\n",
              "      <td>999.90</td>\n",
              "      <td>999.90</td>\n",
              "      <td>999.90</td>\n",
              "      <td>999.90</td>\n",
              "      <td>999.90</td>\n",
              "      <td>999.90</td>\n",
              "      <td>999.90</td>\n",
              "      <td>999.90</td>\n",
              "      <td>25.65</td>\n",
              "      <td>999.90</td>\n",
              "      <td>999.90</td>\n",
              "      <td>999.90</td>\n",
              "      <td>999.90</td>\n",
              "    </tr>\n",
              "    <tr>\n",
              "      <th>13</th>\n",
              "      <td>1986</td>\n",
              "      <td>999.90</td>\n",
              "      <td>27.93</td>\n",
              "      <td>26.95</td>\n",
              "      <td>25.97</td>\n",
              "      <td>999.90</td>\n",
              "      <td>22.70</td>\n",
              "      <td>21.09</td>\n",
              "      <td>22.66</td>\n",
              "      <td>21.46</td>\n",
              "      <td>23.04</td>\n",
              "      <td>25.76</td>\n",
              "      <td>26.17</td>\n",
              "      <td>999.90</td>\n",
              "      <td>25.45</td>\n",
              "      <td>22.15</td>\n",
              "      <td>23.42</td>\n",
              "      <td>24.60</td>\n",
              "    </tr>\n",
              "    <tr>\n",
              "      <th>14</th>\n",
              "      <td>1987</td>\n",
              "      <td>27.68</td>\n",
              "      <td>27.25</td>\n",
              "      <td>25.86</td>\n",
              "      <td>25.85</td>\n",
              "      <td>22.73</td>\n",
              "      <td>20.48</td>\n",
              "      <td>22.43</td>\n",
              "      <td>20.80</td>\n",
              "      <td>21.02</td>\n",
              "      <td>22.96</td>\n",
              "      <td>24.59</td>\n",
              "      <td>26.07</td>\n",
              "      <td>27.03</td>\n",
              "      <td>24.81</td>\n",
              "      <td>21.24</td>\n",
              "      <td>22.86</td>\n",
              "      <td>23.99</td>\n",
              "    </tr>\n",
              "    <tr>\n",
              "      <th>15</th>\n",
              "      <td>1988</td>\n",
              "      <td>28.82</td>\n",
              "      <td>26.03</td>\n",
              "      <td>26.49</td>\n",
              "      <td>24.65</td>\n",
              "      <td>22.70</td>\n",
              "      <td>19.74</td>\n",
              "      <td>19.24</td>\n",
              "      <td>21.36</td>\n",
              "      <td>21.89</td>\n",
              "      <td>22.19</td>\n",
              "      <td>23.57</td>\n",
              "      <td>25.75</td>\n",
              "      <td>26.97</td>\n",
              "      <td>24.61</td>\n",
              "      <td>20.11</td>\n",
              "      <td>22.55</td>\n",
              "      <td>23.56</td>\n",
              "    </tr>\n",
              "    <tr>\n",
              "      <th>16</th>\n",
              "      <td>1989</td>\n",
              "      <td>26.98</td>\n",
              "      <td>26.59</td>\n",
              "      <td>26.45</td>\n",
              "      <td>25.43</td>\n",
              "      <td>21.92</td>\n",
              "      <td>20.90</td>\n",
              "      <td>19.47</td>\n",
              "      <td>21.67</td>\n",
              "      <td>21.70</td>\n",
              "      <td>22.07</td>\n",
              "      <td>24.85</td>\n",
              "      <td>25.86</td>\n",
              "      <td>26.44</td>\n",
              "      <td>24.60</td>\n",
              "      <td>20.68</td>\n",
              "      <td>22.87</td>\n",
              "      <td>23.65</td>\n",
              "    </tr>\n",
              "    <tr>\n",
              "      <th>17</th>\n",
              "      <td>1990</td>\n",
              "      <td>28.63</td>\n",
              "      <td>27.47</td>\n",
              "      <td>27.50</td>\n",
              "      <td>27.05</td>\n",
              "      <td>22.19</td>\n",
              "      <td>21.50</td>\n",
              "      <td>20.25</td>\n",
              "      <td>19.95</td>\n",
              "      <td>21.17</td>\n",
              "      <td>24.21</td>\n",
              "      <td>26.19</td>\n",
              "      <td>26.08</td>\n",
              "      <td>27.32</td>\n",
              "      <td>25.58</td>\n",
              "      <td>20.57</td>\n",
              "      <td>23.86</td>\n",
              "      <td>24.33</td>\n",
              "    </tr>\n",
              "    <tr>\n",
              "      <th>18</th>\n",
              "      <td>1991</td>\n",
              "      <td>25.44</td>\n",
              "      <td>26.43</td>\n",
              "      <td>25.52</td>\n",
              "      <td>24.72</td>\n",
              "      <td>21.69</td>\n",
              "      <td>21.42</td>\n",
              "      <td>19.64</td>\n",
              "      <td>20.91</td>\n",
              "      <td>20.80</td>\n",
              "      <td>23.59</td>\n",
              "      <td>24.49</td>\n",
              "      <td>27.26</td>\n",
              "      <td>25.98</td>\n",
              "      <td>23.98</td>\n",
              "      <td>20.66</td>\n",
              "      <td>22.96</td>\n",
              "      <td>23.39</td>\n",
              "    </tr>\n",
              "    <tr>\n",
              "      <th>19</th>\n",
              "      <td>1992</td>\n",
              "      <td>27.37</td>\n",
              "      <td>999.90</td>\n",
              "      <td>26.75</td>\n",
              "      <td>24.63</td>\n",
              "      <td>23.55</td>\n",
              "      <td>23.31</td>\n",
              "      <td>20.77</td>\n",
              "      <td>20.94</td>\n",
              "      <td>21.74</td>\n",
              "      <td>23.67</td>\n",
              "      <td>23.83</td>\n",
              "      <td>25.38</td>\n",
              "      <td>27.58</td>\n",
              "      <td>24.98</td>\n",
              "      <td>21.67</td>\n",
              "      <td>23.08</td>\n",
              "      <td>24.33</td>\n",
              "    </tr>\n",
              "  </tbody>\n",
              "</table>\n",
              "</div>"
            ],
            "text/plain": [
              "    Year     JAN     FEB     MAR  ...   M-A-M   J-J-A   S-O-N    Temp\n",
              "0   1973   27.73   27.97   25.70  ...   24.87   21.98   22.33   24.16\n",
              "1   1974   26.68   27.16   26.56  ...   24.42   21.24   23.41   23.91\n",
              "2   1975   25.27   26.92   26.43  ...   23.54   21.05   23.05   23.31\n",
              "3   1976   27.48   26.20   25.55  ...   24.18   20.82   22.58   23.58\n",
              "4   1977   27.13   28.51   26.88  ...   24.48   22.50   23.61   24.42\n",
              "5   1978   27.44   26.55   26.42  ...   23.89   21.08   23.67   23.73\n",
              "6   1979   23.86   25.69   24.80  ...   23.74   21.00   23.46   23.32\n",
              "7   1980   25.39   27.24   27.83  ...   25.29   21.74   22.78   24.01\n",
              "8   1981   27.42   28.06   26.26  ...   24.33   20.78   23.64   24.06\n",
              "9   1982   24.55   27.51   25.00  ...   23.10   22.03   24.02   23.77\n",
              "10  1983   26.81   27.63   25.99  ...   24.63   21.21   22.94   23.81\n",
              "11  1984   28.56   28.85   26.54  ...   25.26   22.04   23.82   24.72\n",
              "12  1985   25.53  999.90  999.90  ...  999.90  999.90  999.90  999.90\n",
              "13  1986  999.90   27.93   26.95  ...   25.45   22.15   23.42   24.60\n",
              "14  1987   27.68   27.25   25.86  ...   24.81   21.24   22.86   23.99\n",
              "15  1988   28.82   26.03   26.49  ...   24.61   20.11   22.55   23.56\n",
              "16  1989   26.98   26.59   26.45  ...   24.60   20.68   22.87   23.65\n",
              "17  1990   28.63   27.47   27.50  ...   25.58   20.57   23.86   24.33\n",
              "18  1991   25.44   26.43   25.52  ...   23.98   20.66   22.96   23.39\n",
              "19  1992   27.37  999.90   26.75  ...   24.98   21.67   23.08   24.33\n",
              "\n",
              "[20 rows x 18 columns]"
            ]
          },
          "metadata": {
            "tags": []
          },
          "execution_count": 3
        }
      ]
    },
    {
      "cell_type": "code",
      "metadata": {
        "id": "B7j07p3cXwiX",
        "colab_type": "code",
        "colab": {
          "base_uri": "https://localhost:8080/",
          "height": 34
        },
        "outputId": "84924a7a-5c66-40a5-f40a-adb5861e205d"
      },
      "source": [
        "# checking null values on the original dataframe\n",
        "df.isnull().values.any()"
      ],
      "execution_count": 4,
      "outputs": [
        {
          "output_type": "execute_result",
          "data": {
            "text/plain": [
              "False"
            ]
          },
          "metadata": {
            "tags": []
          },
          "execution_count": 4
        }
      ]
    },
    {
      "cell_type": "code",
      "metadata": {
        "id": "TNLH-QS4Pdoz",
        "colab_type": "code",
        "colab": {
          "base_uri": "https://localhost:8080/",
          "height": 333
        },
        "outputId": "4348797c-b262-4d93-c650-ca0ee71e245a"
      },
      "source": [
        "year = df['Year']\n",
        "temp = df['Temp']\n",
        "\n",
        "plt.hist(temp, bins = 10)\n",
        "# plot shows that we have invalid and inconsistent values (ex. line 12, year 1885 has values 999.90 for temperatures)"
      ],
      "execution_count": 5,
      "outputs": [
        {
          "output_type": "execute_result",
          "data": {
            "text/plain": [
              "(array([43.,  0.,  0.,  0.,  0.,  0.,  0.,  0.,  0.,  4.]),\n",
              " array([ 23.31 , 120.969, 218.628, 316.287, 413.946, 511.605, 609.264,\n",
              "        706.923, 804.582, 902.241, 999.9  ]),\n",
              " <a list of 10 Patch objects>)"
            ]
          },
          "metadata": {
            "tags": []
          },
          "execution_count": 5
        },
        {
          "output_type": "display_data",
          "data": {
            "image/png": "[encoded data removed]",
            "text/plain": [
              "<Figure size 432x288 with 1 Axes>"
            ]
          },
          "metadata": {
            "tags": [],
            "needs_background": "light"
          }
        }
      ]
    },
    {
      "cell_type": "code",
      "metadata": {
        "id": "pu6HHiJZXGIk",
        "colab_type": "code",
        "colab": {
          "base_uri": "https://localhost:8080/",
          "height": 68
        },
        "outputId": "5cc8b162-f4b5-4972-84ad-eb684231b366"
      },
      "source": [
        "df.columns"
      ],
      "execution_count": 6,
      "outputs": [
        {
          "output_type": "execute_result",
          "data": {
            "text/plain": [
              "Index(['Year', 'JAN', 'FEB', 'MAR', 'APR', 'MAY', 'JUN', 'JUL', 'AUG', 'SEP',\n",
              "       'OCT', 'NOV', 'DEC', 'D-J-F', 'M-A-M', 'J-J-A', 'S-O-N', 'Temp'],\n",
              "      dtype='object')"
            ]
          },
          "metadata": {
            "tags": []
          },
          "execution_count": 6
        }
      ]
    },
    {
      "cell_type": "code",
      "metadata": {
        "id": "ZrCy_C51_4Lr",
        "colab_type": "code",
        "colab": {}
      },
      "source": [
        "# replacing inconsistent values (999.90): condition: values equal or greater then 50 ºC\n",
        "# for all columns, except for 'Year', replace values above 50 ºC by null (np.nan)\n",
        "\n",
        "for i in df.columns:\n",
        "  if i != 'Year':\n",
        "    df.loc[df[i] >= 50, i] = np.nan"
      ],
      "execution_count": 7,
      "outputs": []
    },
    {
      "cell_type": "code",
      "metadata": {
        "id": "-htNZOzeevle",
        "colab_type": "code",
        "colab": {
          "base_uri": "https://localhost:8080/",
          "height": 235
        },
        "outputId": "caf3ef05-a4ee-4d42-9a44-ad5e88131628"
      },
      "source": [
        "# verifying changes (NaN)\n",
        "df.loc[10:15]"
      ],
      "execution_count": 8,
      "outputs": [
        {
          "output_type": "execute_result",
          "data": {
            "text/html": [
              "<div>\n",
              "<style scoped>\n",
              "    .dataframe tbody tr th:only-of-type {\n",
              "        vertical-align: middle;\n",
              "    }\n",
              "\n",
              "    .dataframe tbody tr th {\n",
              "        vertical-align: top;\n",
              "    }\n",
              "\n",
              "    .dataframe thead th {\n",
              "        text-align: right;\n",
              "    }\n",
              "</style>\n",
              "<table border=\"1\" class=\"dataframe\">\n",
              "  <thead>\n",
              "    <tr style=\"text-align: right;\">\n",
              "      <th></th>\n",
              "      <th>Year</th>\n",
              "      <th>JAN</th>\n",
              "      <th>FEB</th>\n",
              "      <th>MAR</th>\n",
              "      <th>APR</th>\n",
              "      <th>MAY</th>\n",
              "      <th>JUN</th>\n",
              "      <th>JUL</th>\n",
              "      <th>AUG</th>\n",
              "      <th>SEP</th>\n",
              "      <th>OCT</th>\n",
              "      <th>NOV</th>\n",
              "      <th>DEC</th>\n",
              "      <th>D-J-F</th>\n",
              "      <th>M-A-M</th>\n",
              "      <th>J-J-A</th>\n",
              "      <th>S-O-N</th>\n",
              "      <th>Temp</th>\n",
              "    </tr>\n",
              "  </thead>\n",
              "  <tbody>\n",
              "    <tr>\n",
              "      <th>10</th>\n",
              "      <td>1983</td>\n",
              "      <td>26.81</td>\n",
              "      <td>27.63</td>\n",
              "      <td>25.99</td>\n",
              "      <td>24.08</td>\n",
              "      <td>23.82</td>\n",
              "      <td>21.18</td>\n",
              "      <td>21.55</td>\n",
              "      <td>20.91</td>\n",
              "      <td>20.53</td>\n",
              "      <td>23.03</td>\n",
              "      <td>25.25</td>\n",
              "      <td>25.94</td>\n",
              "      <td>26.47</td>\n",
              "      <td>24.63</td>\n",
              "      <td>21.21</td>\n",
              "      <td>22.94</td>\n",
              "      <td>23.81</td>\n",
              "    </tr>\n",
              "    <tr>\n",
              "      <th>11</th>\n",
              "      <td>1984</td>\n",
              "      <td>28.56</td>\n",
              "      <td>28.85</td>\n",
              "      <td>26.54</td>\n",
              "      <td>24.46</td>\n",
              "      <td>24.77</td>\n",
              "      <td>22.91</td>\n",
              "      <td>22.20</td>\n",
              "      <td>21.00</td>\n",
              "      <td>21.91</td>\n",
              "      <td>24.44</td>\n",
              "      <td>25.11</td>\n",
              "      <td>25.24</td>\n",
              "      <td>27.78</td>\n",
              "      <td>25.26</td>\n",
              "      <td>22.04</td>\n",
              "      <td>23.82</td>\n",
              "      <td>24.72</td>\n",
              "    </tr>\n",
              "    <tr>\n",
              "      <th>12</th>\n",
              "      <td>1985</td>\n",
              "      <td>25.53</td>\n",
              "      <td>NaN</td>\n",
              "      <td>NaN</td>\n",
              "      <td>NaN</td>\n",
              "      <td>NaN</td>\n",
              "      <td>NaN</td>\n",
              "      <td>NaN</td>\n",
              "      <td>NaN</td>\n",
              "      <td>NaN</td>\n",
              "      <td>NaN</td>\n",
              "      <td>NaN</td>\n",
              "      <td>NaN</td>\n",
              "      <td>25.65</td>\n",
              "      <td>NaN</td>\n",
              "      <td>NaN</td>\n",
              "      <td>NaN</td>\n",
              "      <td>NaN</td>\n",
              "    </tr>\n",
              "    <tr>\n",
              "      <th>13</th>\n",
              "      <td>1986</td>\n",
              "      <td>NaN</td>\n",
              "      <td>27.93</td>\n",
              "      <td>26.95</td>\n",
              "      <td>25.97</td>\n",
              "      <td>NaN</td>\n",
              "      <td>22.70</td>\n",
              "      <td>21.09</td>\n",
              "      <td>22.66</td>\n",
              "      <td>21.46</td>\n",
              "      <td>23.04</td>\n",
              "      <td>25.76</td>\n",
              "      <td>26.17</td>\n",
              "      <td>NaN</td>\n",
              "      <td>25.45</td>\n",
              "      <td>22.15</td>\n",
              "      <td>23.42</td>\n",
              "      <td>24.60</td>\n",
              "    </tr>\n",
              "    <tr>\n",
              "      <th>14</th>\n",
              "      <td>1987</td>\n",
              "      <td>27.68</td>\n",
              "      <td>27.25</td>\n",
              "      <td>25.86</td>\n",
              "      <td>25.85</td>\n",
              "      <td>22.73</td>\n",
              "      <td>20.48</td>\n",
              "      <td>22.43</td>\n",
              "      <td>20.80</td>\n",
              "      <td>21.02</td>\n",
              "      <td>22.96</td>\n",
              "      <td>24.59</td>\n",
              "      <td>26.07</td>\n",
              "      <td>27.03</td>\n",
              "      <td>24.81</td>\n",
              "      <td>21.24</td>\n",
              "      <td>22.86</td>\n",
              "      <td>23.99</td>\n",
              "    </tr>\n",
              "    <tr>\n",
              "      <th>15</th>\n",
              "      <td>1988</td>\n",
              "      <td>28.82</td>\n",
              "      <td>26.03</td>\n",
              "      <td>26.49</td>\n",
              "      <td>24.65</td>\n",
              "      <td>22.70</td>\n",
              "      <td>19.74</td>\n",
              "      <td>19.24</td>\n",
              "      <td>21.36</td>\n",
              "      <td>21.89</td>\n",
              "      <td>22.19</td>\n",
              "      <td>23.57</td>\n",
              "      <td>25.75</td>\n",
              "      <td>26.97</td>\n",
              "      <td>24.61</td>\n",
              "      <td>20.11</td>\n",
              "      <td>22.55</td>\n",
              "      <td>23.56</td>\n",
              "    </tr>\n",
              "  </tbody>\n",
              "</table>\n",
              "</div>"
            ],
            "text/plain": [
              "    Year    JAN    FEB    MAR    APR  ...  D-J-F  M-A-M  J-J-A  S-O-N   Temp\n",
              "10  1983  26.81  27.63  25.99  24.08  ...  26.47  24.63  21.21  22.94  23.81\n",
              "11  1984  28.56  28.85  26.54  24.46  ...  27.78  25.26  22.04  23.82  24.72\n",
              "12  1985  25.53    NaN    NaN    NaN  ...  25.65    NaN    NaN    NaN    NaN\n",
              "13  1986    NaN  27.93  26.95  25.97  ...    NaN  25.45  22.15  23.42  24.60\n",
              "14  1987  27.68  27.25  25.86  25.85  ...  27.03  24.81  21.24  22.86  23.99\n",
              "15  1988  28.82  26.03  26.49  24.65  ...  26.97  24.61  20.11  22.55  23.56\n",
              "\n",
              "[6 rows x 18 columns]"
            ]
          },
          "metadata": {
            "tags": []
          },
          "execution_count": 8
        }
      ]
    },
    {
      "cell_type": "code",
      "metadata": {
        "id": "9RVOSUWsmdob",
        "colab_type": "code",
        "colab": {
          "base_uri": "https://localhost:8080/",
          "height": 34
        },
        "outputId": "a16da584-427d-4115-8df9-fe5507aab793"
      },
      "source": [
        "# now we have null values on the dataframe\n",
        "df.isnull().values.any()"
      ],
      "execution_count": 9,
      "outputs": [
        {
          "output_type": "execute_result",
          "data": {
            "text/plain": [
              "True"
            ]
          },
          "metadata": {
            "tags": []
          },
          "execution_count": 9
        }
      ]
    },
    {
      "cell_type": "code",
      "metadata": {
        "id": "U0RIfZHxfYnW",
        "colab_type": "code",
        "colab": {
          "base_uri": "https://localhost:8080/",
          "height": 340
        },
        "outputId": "92fb8ea1-54ea-434c-b1a7-7866abcbec62"
      },
      "source": [
        "# How many inconsistent values (greater than 50) did the dataframe have in each column?\n",
        "\n",
        "empty_entries_per_column = df.isna().sum(axis = 0)\n",
        "empty_entries_per_column"
      ],
      "execution_count": 10,
      "outputs": [
        {
          "output_type": "execute_result",
          "data": {
            "text/plain": [
              "Year     0\n",
              "JAN      4\n",
              "FEB      6\n",
              "MAR      3\n",
              "APR      3\n",
              "MAY      4\n",
              "JUN      3\n",
              "JUL      4\n",
              "AUG      4\n",
              "SEP      4\n",
              "OCT      3\n",
              "NOV      4\n",
              "DEC      5\n",
              "D-J-F    4\n",
              "M-A-M    3\n",
              "J-J-A    4\n",
              "S-O-N    3\n",
              "Temp     4\n",
              "dtype: int64"
            ]
          },
          "metadata": {
            "tags": []
          },
          "execution_count": 10
        }
      ]
    },
    {
      "cell_type": "code",
      "metadata": {
        "id": "-ZaJDpDSgbWs",
        "colab_type": "code",
        "colab": {
          "base_uri": "https://localhost:8080/",
          "height": 833
        },
        "outputId": "3877315b-d13a-4c0f-9393-8f423644b670"
      },
      "source": [
        "# How many inconsistent values (greater than 50) did the dataframe have in each row?\n",
        "\n",
        "empty_entries_per_row = df.isna().sum(axis = 1)\n",
        "empty_entries_per_row"
      ],
      "execution_count": 11,
      "outputs": [
        {
          "output_type": "execute_result",
          "data": {
            "text/plain": [
              "0      0\n",
              "1      0\n",
              "2      0\n",
              "3      0\n",
              "4      0\n",
              "5      0\n",
              "6      0\n",
              "7      0\n",
              "8      0\n",
              "9      0\n",
              "10     0\n",
              "11     0\n",
              "12    15\n",
              "13     3\n",
              "14     0\n",
              "15     0\n",
              "16     0\n",
              "17     0\n",
              "18     0\n",
              "19     1\n",
              "20     9\n",
              "21     3\n",
              "22     0\n",
              "23     0\n",
              "24     0\n",
              "25     0\n",
              "26     0\n",
              "27     0\n",
              "28     0\n",
              "29     0\n",
              "30    15\n",
              "31     3\n",
              "32     0\n",
              "33     0\n",
              "34    13\n",
              "35     0\n",
              "36     0\n",
              "37     0\n",
              "38     0\n",
              "39     0\n",
              "40     0\n",
              "41     0\n",
              "42     1\n",
              "43     0\n",
              "44     0\n",
              "45     0\n",
              "46     2\n",
              "dtype: int64"
            ]
          },
          "metadata": {
            "tags": []
          },
          "execution_count": 11
        }
      ]
    },
    {
      "cell_type": "markdown",
      "metadata": {
        "id": "0pg0-qGmBcDx",
        "colab_type": "text"
      },
      "source": [
        "## Years and Temperatures"
      ]
    },
    {
      "cell_type": "code",
      "metadata": {
        "id": "L6LAtoiKZ3PU",
        "colab_type": "code",
        "colab": {
          "base_uri": "https://localhost:8080/",
          "height": 298
        },
        "outputId": "c6ad95b9-8fc4-4d37-b1c9-bfd36c7a7321"
      },
      "source": [
        "# ploting Year x Average Temperature \n",
        "\n",
        "plt.bar(df['Year'], df['Temp'])\n",
        "plt.ylim(23,26)\n",
        "plt.title('Rio de Janeiro temperature (1973 - 2019)')"
      ],
      "execution_count": 12,
      "outputs": [
        {
          "output_type": "execute_result",
          "data": {
            "text/plain": [
              "Text(0.5, 1.0, 'Rio de Janeiro temperature (1973 - 2019)')"
            ]
          },
          "metadata": {
            "tags": []
          },
          "execution_count": 12
        },
        {
          "output_type": "display_data",
          "data": {
            "image/png": "[encoded data removed]",
            "text/plain": [
              "<Figure size 432x288 with 1 Axes>"
            ]
          },
          "metadata": {
            "tags": [],
            "needs_background": "light"
          }
        }
      ]
    },
    {
      "cell_type": "code",
      "metadata": {
        "id": "ObUNx0oXCaIY",
        "colab_type": "code",
        "colab": {
          "base_uri": "https://localhost:8080/",
          "height": 314
        },
        "outputId": "30d6a27f-2c5c-4a21-dc0d-c797252bf52f"
      },
      "source": [
        "# same plot, with zoom\n",
        "plt.bar(df['Year'], df['Temp'])\n",
        "plt.ylim(23,26)\n",
        "plt.xlim(2000, 2020)\n",
        "plt.xticks(ticks = np.arange(2000, 2020, step = 1), labels = np.arange(2000, 2020, step = 1), rotation = 90)\n",
        "plt.title('Rio de Janeiro temperature (2000 - 2019)')"
      ],
      "execution_count": 13,
      "outputs": [
        {
          "output_type": "execute_result",
          "data": {
            "text/plain": [
              "Text(0.5, 1.0, 'Rio de Janeiro temperature (2000 - 2019)')"
            ]
          },
          "metadata": {
            "tags": []
          },
          "execution_count": 13
        },
        {
          "output_type": "display_data",
          "data": {
            "image/png": "[encoded data removed]",
            "text/plain": [
              "<Figure size 432x288 with 1 Axes>"
            ]
          },
          "metadata": {
            "tags": [],
            "needs_background": "light"
          }
        }
      ]
    },
    {
      "cell_type": "code",
      "metadata": {
        "id": "-6WRWMzQf-eg",
        "colab_type": "code",
        "colab": {
          "base_uri": "https://localhost:8080/",
          "height": 34
        },
        "outputId": "01d781af-b7a1-44c1-c803-f51d13977fa7"
      },
      "source": [
        "# mean temperature (all years: 1973 - 2019)\n",
        "avg_temp = round(df.Temp.mean(), 2)\n",
        "avg_temp"
      ],
      "execution_count": 14,
      "outputs": [
        {
          "output_type": "execute_result",
          "data": {
            "text/plain": [
              "24.29"
            ]
          },
          "metadata": {
            "tags": []
          },
          "execution_count": 14
        }
      ]
    },
    {
      "cell_type": "markdown",
      "metadata": {
        "id": "-Kpq8kLzBCcg",
        "colab_type": "text"
      },
      "source": [
        "## Seasons and Temperatures"
      ]
    },
    {
      "cell_type": "code",
      "metadata": {
        "id": "CNHahJGaECV8",
        "colab_type": "code",
        "colab": {
          "base_uri": "https://localhost:8080/",
          "height": 34
        },
        "outputId": "875bbc71-1ffc-4ed0-cf96-a49efa8dafe3"
      },
      "source": [
        "# seasons mean temperatures\n",
        "summer = df['D-J-F'].mean()\n",
        "autumn = df['M-A-M'].mean()\n",
        "winter = df['J-J-A'].mean()\n",
        "spring = df['S-O-N'].mean()\n",
        "\n",
        "round(summer, 2), round(autumn, 2), round(winter, 2), round(spring, 2)"
      ],
      "execution_count": 15,
      "outputs": [
        {
          "output_type": "execute_result",
          "data": {
            "text/plain": [
              "(27.05, 24.84, 21.57, 23.68)"
            ]
          },
          "metadata": {
            "tags": []
          },
          "execution_count": 15
        }
      ]
    },
    {
      "cell_type": "code",
      "metadata": {
        "id": "lhuZbsaGI1V-",
        "colab_type": "code",
        "colab": {}
      },
      "source": [
        "# preparing data to categorical bar plot\n",
        "\n",
        "data = {'Summer': round(summer, 2), 'Autumn': round(autumn, 2), 'winter': round(winter, 2), 'Spring': round(spring, 2)}\n",
        "names = list(data.keys())\n",
        "values = list(data.values())"
      ],
      "execution_count": 16,
      "outputs": []
    },
    {
      "cell_type": "code",
      "metadata": {
        "id": "DiTvadrc7pFc",
        "colab_type": "code",
        "colab": {
          "base_uri": "https://localhost:8080/",
          "height": 34
        },
        "outputId": "c786462e-608e-4218-9eea-92953d4ea901"
      },
      "source": [
        "len(names)"
      ],
      "execution_count": 17,
      "outputs": [
        {
          "output_type": "execute_result",
          "data": {
            "text/plain": [
              "4"
            ]
          },
          "metadata": {
            "tags": []
          },
          "execution_count": 17
        }
      ]
    },
    {
      "cell_type": "code",
      "metadata": {
        "id": "dLq6uU4yWabH",
        "colab_type": "code",
        "colab": {
          "base_uri": "https://localhost:8080/",
          "height": 281
        },
        "outputId": "21c004c0-6dc9-4286-80c2-92b06d8b8a31"
      },
      "source": [
        "# season mean temperature plot\n",
        "\n",
        "bar1 = plt.bar(np.arange(len(values)), values)\n",
        "plt.xticks(range(len(names)), names)\n",
        "plt.title('Rio de Janeiro: mean temperature each season')\n",
        "plt.ylim(20,30)\n",
        "plt.axhline(avg_temp, color = 'r', linestyle = 'dashed')\n",
        "for rect in bar1:\n",
        "    height = rect.get_height()\n",
        "    plt.text(rect.get_x() + rect.get_width()/2.0, height, '%.2f' % float(height), ha='center', va='bottom', fontsize = 12, fontweight = 'bold')"
      ],
      "execution_count": 18,
      "outputs": [
        {
          "output_type": "display_data",
          "data": {
            "image/png": "[encoded data removed]",
            "text/plain": [
              "<Figure size 432x288 with 1 Axes>"
            ]
          },
          "metadata": {
            "tags": [],
            "needs_background": "light"
          }
        }
      ]
    },
    {
      "cell_type": "markdown",
      "metadata": {
        "id": "3sB4ZHaafV-J",
        "colab_type": "text"
      },
      "source": [
        "# Conclusions"
      ]
    },
    {
      "cell_type": "markdown",
      "metadata": {
        "id": "w2IY521zgJ3N",
        "colab_type": "text"
      },
      "source": [
        "Unfortunately, there is not much more we can do with this dataset, since it has no independent variables that we can explore the relations or use to predict something (all its columns are average temperatures - by month or by year)."
      ]
    }
  ]
}